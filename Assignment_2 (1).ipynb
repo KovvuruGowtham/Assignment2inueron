{
 "cells": [
  {
   "cell_type": "raw",
   "id": "f487f2a6-8a8b-4587-8789-44c768d494c7",
   "metadata": {},
   "source": [
    "1.What are the two values of the Boolean data type? How do you write them?"
   ]
  },
  {
   "cell_type": "raw",
   "id": "3da45d60-3103-4e4d-ab68-063139606f08",
   "metadata": {},
   "source": [
    "True & False(T and F must be capital and the rest in lower case)"
   ]
  },
  {
   "cell_type": "raw",
   "id": "f638fc5e-5287-411b-b8fe-831efc869fcd",
   "metadata": {},
   "source": [
    "2. What are the three different types of Boolean operators?"
   ]
  },
  {
   "cell_type": "raw",
   "id": "bf86d554-1c60-4fed-ad6e-41f789db8541",
   "metadata": {},
   "source": [
    "1. and\n",
    "2. or\n",
    "3. not"
   ]
  },
  {
   "cell_type": "markdown",
   "id": "4e9a0e29-d656-41bf-83f9-94652d5ad843",
   "metadata": {},
   "source": [
    "3. Make a list of each Boolean operators truth tables (i.e. every possible combination of Boolean values for the operator and what it evaluate )."
   ]
  },
  {
   "cell_type": "raw",
   "id": "a37a3422-546d-4374-bfbe-af8ff589ddb5",
   "metadata": {},
   "source": [
    "Truth table AND:\n",
    "    \n",
    "     statement-A    statement-B     A and B\n",
    "       True            True          True\n",
    "       True            False         False\n",
    "       False           True          False\n",
    "       Fasle           False         False"
   ]
  },
  {
   "cell_type": "raw",
   "id": "59b55fe0-35ac-47f1-ba09-af1973258bdf",
   "metadata": {},
   "source": [
    "Truth table OR:\n",
    "    \n",
    "     statement-A    statement-B      A or B\n",
    "        True            True          True\n",
    "        True            False         True\n",
    "        False           True          True\n",
    "        False           False         False"
   ]
  },
  {
   "cell_type": "raw",
   "id": "d645677c-4286-4d97-a9aa-d12356b8edf4",
   "metadata": {},
   "source": [
    "Truth Table NOT:\n",
    "     \n",
    "     statement-A     not A\n",
    "        True         False\n",
    "        False        True\n",
    "     "
   ]
  },
  {
   "cell_type": "code",
   "execution_count": null,
   "id": "15500052-4935-490c-b112-48bd5f99937e",
   "metadata": {},
   "outputs": [],
   "source": [
    "4. What are the values of the following expressions?"
   ]
  },
  {
   "cell_type": "code",
   "execution_count": 1,
   "id": "94d99172-d5b7-431f-8534-78d99462ea39",
   "metadata": {},
   "outputs": [
    {
     "data": {
      "text/plain": [
       "False"
      ]
     },
     "execution_count": 1,
     "metadata": {},
     "output_type": "execute_result"
    }
   ],
   "source": [
    "(5 > 4) and (3 == 5)"
   ]
  },
  {
   "cell_type": "code",
   "execution_count": 2,
   "id": "7ed7c8db-35dc-40ac-a8c6-bb11d77dbfdb",
   "metadata": {},
   "outputs": [
    {
     "data": {
      "text/plain": [
       "False"
      ]
     },
     "execution_count": 2,
     "metadata": {},
     "output_type": "execute_result"
    }
   ],
   "source": [
    "not (5 > 4)"
   ]
  },
  {
   "cell_type": "code",
   "execution_count": 3,
   "id": "12a465d9-5692-45cb-a9d2-58162dd26486",
   "metadata": {},
   "outputs": [
    {
     "data": {
      "text/plain": [
       "True"
      ]
     },
     "execution_count": 3,
     "metadata": {},
     "output_type": "execute_result"
    }
   ],
   "source": [
    "(5 > 4) or (3 == 5)"
   ]
  },
  {
   "cell_type": "code",
   "execution_count": 4,
   "id": "d3666494-c008-4957-ad37-bdaf0eccf440",
   "metadata": {},
   "outputs": [
    {
     "data": {
      "text/plain": [
       "False"
      ]
     },
     "execution_count": 4,
     "metadata": {},
     "output_type": "execute_result"
    }
   ],
   "source": [
    "not ((5 > 4) or (3 == 5))"
   ]
  },
  {
   "cell_type": "code",
   "execution_count": 5,
   "id": "746b5d5e-26cf-438c-bc32-744863c34166",
   "metadata": {},
   "outputs": [
    {
     "data": {
      "text/plain": [
       "False"
      ]
     },
     "execution_count": 5,
     "metadata": {},
     "output_type": "execute_result"
    }
   ],
   "source": [
    "(True and True) and (True == False)"
   ]
  },
  {
   "cell_type": "code",
   "execution_count": 6,
   "id": "06a99518-fb1a-4d6e-b87c-a8bf6b4d4dd9",
   "metadata": {},
   "outputs": [
    {
     "data": {
      "text/plain": [
       "True"
      ]
     },
     "execution_count": 6,
     "metadata": {},
     "output_type": "execute_result"
    }
   ],
   "source": [
    "(not False) or (not True)"
   ]
  },
  {
   "cell_type": "raw",
   "id": "58f29037-be2d-43f6-bac3-b3705167f5cc",
   "metadata": {},
   "source": [
    "5. What are the six comparison operators?"
   ]
  },
  {
   "cell_type": "raw",
   "id": "98cba715-84d2-47e2-bff5-14be68730ce5",
   "metadata": {},
   "source": [
    "Ans:\n",
    "    1.Equal to (==)\n",
    "    2.Not equal to (!=)\n",
    "    3.less than (<)\n",
    "    4.greater than (>)\n",
    "    5.less than or equl to (<=)\n",
    "    6.greater than or equal to (>=)"
   ]
  },
  {
   "cell_type": "raw",
   "id": "968d2b3f-a51a-4b80-b572-f4c8a1c7487d",
   "metadata": {},
   "source": [
    "6. How do you tell the difference between the equal to and assignment operators?Describe a condition and when you would use one."
   ]
  },
  {
   "cell_type": "raw",
   "id": "451330d9-fa23-4dca-8659-56d00e6ab9c1",
   "metadata": {},
   "source": [
    "Ans:\n",
    "  1.\"equal to\" can be identified as \"==\",where as assignment operator can be identified as \"=\"\n",
    "  \n",
    "  2. \"equal to\" is used to compare two values for true/false,. Ex: 3*4 == 12\n",
    "     \"assignment operator\" is used when a value has to be assigned/stored in a variable. Ex: a = 3 (i.e value 3 is assigned to variable a) "
   ]
  },
  {
   "cell_type": "raw",
   "id": "1be08194-e05a-44fa-a728-9f1d9dd23bda",
   "metadata": {},
   "source": [
    "7. Identify the three blocks in this code:"
   ]
  },
  {
   "cell_type": "code",
   "execution_count": 8,
   "id": "4aa6f420-4a13-4527-bea5-eb2ca5cd1df3",
   "metadata": {},
   "outputs": [
    {
     "name": "stdout",
     "output_type": "stream",
     "text": [
      "ham\n",
      "spam\n",
      "spam\n"
     ]
    }
   ],
   "source": [
    "spam = 0\n",
    "\n",
    "if spam == 10:\n",
    "    print('eggs')  #block1\n",
    "\n",
    "if spam > 5:\n",
    "    print('bacon') #block2\n",
    "    \n",
    "else:\n",
    "    print('ham')\n",
    "    print('spam')\n",
    "    print('spam') #block3"
   ]
  },
  {
   "cell_type": "raw",
   "id": "874bd2bc-ec65-467b-b06e-0c3d7bfa7079",
   "metadata": {},
   "source": [
    "8. Write code that prints Hello if 1 is stored in spam, prints Howdy if 2 is stored in spam, and prints Greetings! if anything else is stored in spam."
   ]
  },
  {
   "cell_type": "code",
   "execution_count": 9,
   "id": "c0f6029b-10dd-4077-b279-bc6e3140a9e4",
   "metadata": {},
   "outputs": [
    {
     "name": "stdout",
     "output_type": "stream",
     "text": [
      "Greetings!\n"
     ]
    }
   ],
   "source": [
    "spam = 5\n",
    "\n",
    "if spam == 1:\n",
    "    print('Hello')\n",
    "    \n",
    "if spam == 2:\n",
    "    print('Howdy')\n",
    "    \n",
    "else:\n",
    "    print('Greetings!')"
   ]
  },
  {
   "cell_type": "raw",
   "id": "e9d7d234-330e-41e5-8c82-6519b43a8e63",
   "metadata": {},
   "source": [
    "9.If your programme is stuck in an endless loop, what keys you’ll press?"
   ]
  },
  {
   "cell_type": "code",
   "execution_count": null,
   "id": "3fc490e3-75d9-4cfb-a81e-755ca5a395c4",
   "metadata": {},
   "outputs": [],
   "source": [
    "Ans: Ctrl + C"
   ]
  },
  {
   "cell_type": "raw",
   "id": "2ad002a7-2d86-4220-adb0-2958f1a3869e",
   "metadata": {},
   "source": [
    "10. How can you tell the difference between break and continue?"
   ]
  },
  {
   "cell_type": "raw",
   "id": "eb51b34a-babb-4317-8f03-ae49b43b0946",
   "metadata": {},
   "source": [
    "Ans:\n",
    "    break: when the condition/statement is true, the execution will break out of the loop and starts executing outside the loop.\n",
    "    \n",
    "    continue: when the condition/statement is true, the loop starts again until the condition/statement turns false."
   ]
  },
  {
   "cell_type": "raw",
   "id": "94c9696c-f3cf-431f-9e90-d45016dd647e",
   "metadata": {},
   "source": [
    "11. In a for loop, what is the difference between range(10), range(0, 10), and range(0, 10, 1)?"
   ]
  },
  {
   "cell_type": "raw",
   "id": "fd840449-b63c-4357-b616-d50aa42e9ad0",
   "metadata": {},
   "source": [
    "Ans:\n",
    "    range(10),range(0,10) and range(0,10,1) are all the same."
   ]
  },
  {
   "cell_type": "raw",
   "id": "5dab5d16-9f98-46a7-abeb-fe7d137ddb84",
   "metadata": {},
   "source": [
    "12. Write a short program that prints the numbers 1 to 10 using a for loop. Then write an equivalent program that prints the numbers 1 to 10 using a while loop."
   ]
  },
  {
   "cell_type": "code",
   "execution_count": 12,
   "id": "9f08ee92-7e3a-47bd-95d2-8f2bf7d9b313",
   "metadata": {},
   "outputs": [
    {
     "name": "stdout",
     "output_type": "stream",
     "text": [
      "1 2 3 4 5 6 7 8 9 10 "
     ]
    }
   ],
   "source": [
    "for i in range(1,11):\n",
    "    print(i,end=' ')"
   ]
  },
  {
   "cell_type": "code",
   "execution_count": 16,
   "id": "c2d59a32-f44f-4847-85a0-727da16d27d8",
   "metadata": {},
   "outputs": [
    {
     "name": "stdout",
     "output_type": "stream",
     "text": [
      "1 2 3 4 5 6 7 8 9 10 "
     ]
    }
   ],
   "source": [
    "i = 0\n",
    "while i < 10:\n",
    "    i += 1\n",
    "    print(i,end=' ')"
   ]
  },
  {
   "cell_type": "raw",
   "id": "61310055-9cf9-42e7-899c-80212df1bf7c",
   "metadata": {},
   "source": [
    "13. If you had a function named bacon() inside a module named spam, how would you call it after importing spam?"
   ]
  },
  {
   "cell_type": "raw",
   "id": "c5995545-ef59-4f56-ba81-b5d686a90850",
   "metadata": {},
   "source": [
    "ans: spam.bacon()"
   ]
  }
 ],
 "metadata": {
  "kernelspec": {
   "display_name": "Python 3 (ipykernel)",
   "language": "python",
   "name": "python3"
  },
  "language_info": {
   "codemirror_mode": {
    "name": "ipython",
    "version": 3
   },
   "file_extension": ".py",
   "mimetype": "text/x-python",
   "name": "python",
   "nbconvert_exporter": "python",
   "pygments_lexer": "ipython3",
   "version": "3.10.6"
  }
 },
 "nbformat": 4,
 "nbformat_minor": 5
}
